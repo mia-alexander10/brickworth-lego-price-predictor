{
 "cells": [
  {
   "metadata": {},
   "cell_type": "markdown",
   "source": [
    "#01 - Data Ingestion (Rebrickable)\n",
    "\n",
    "Purpose: Pull LEGO data **themes**, **sets** (>= 1990), and a small **inventory sample** via Rebrickable API and persist to 'data/raw'."
   ],
   "id": "e052ab7bdb8988e1"
  },
  {
   "cell_type": "code",
   "id": "initial_id",
   "metadata": {
    "collapsed": true,
    "ExecuteTime": {
     "end_time": "2025-08-19T17:15:44.610959Z",
     "start_time": "2025-08-19T17:15:44.543105Z"
    }
   },
   "source": [
    "from pathlib import Path\n",
    "import os\n",
    "from dotenv import load_dotenv\n",
    "\n",
    "load_dotenv()  # reads .env at project root\n",
    "\n",
    "# Resolve project root whether run from / or /notebooks\n",
    "CWD = Path.cwd()\n",
    "PROJ = CWD if (CWD / \"data\").exists() else CWD.parent\n",
    "RAW = PROJ / \"data\" / \"raw\"\n",
    "\n",
    "print(\"Project root:\", PROJ)\n",
    "print(\"Raw data dir:\", RAW)\n",
    "print(\"Has API key:\", bool(os.getenv(\"REBRICKABLE_API_KEY\")))"
   ],
   "outputs": [
    {
     "name": "stdout",
     "output_type": "stream",
     "text": [
      "Project root: /Users/miaalexander/Documents/ML_Projects/brickworth-lego-price-predictor\n",
      "Raw data dir: /Users/miaalexander/Documents/ML_Projects/brickworth-lego-price-predictor/data/raw\n",
      "Has API key: True\n"
     ]
    }
   ],
   "execution_count": 14
  },
  {
   "metadata": {
    "ExecuteTime": {
     "end_time": "2025-08-19T17:16:52.863296Z",
     "start_time": "2025-08-19T17:16:09.653123Z"
    }
   },
   "cell_type": "code",
   "source": [
    "# Runs src/data_ingestion.py -> writes CSV/Parquet into data/raw/\n",
    "import runpy\n",
    "_ = runpy.run_module(\"src.data_ingestion\", run_name=\"__main__\")"
   ],
   "id": "344bca0fe35f304",
   "outputs": [
    {
     "ename": "KeyboardInterrupt",
     "evalue": "",
     "output_type": "error",
     "traceback": [
      "\u001B[31m---------------------------------------------------------------------------\u001B[39m",
      "\u001B[31mKeyboardInterrupt\u001B[39m                         Traceback (most recent call last)",
      "\u001B[36mCell\u001B[39m\u001B[36m \u001B[39m\u001B[32mIn[15]\u001B[39m\u001B[32m, line 3\u001B[39m\n\u001B[32m      1\u001B[39m \u001B[38;5;66;03m# Runs src/data_ingestion.py -> writes CSV/Parquet into data/raw/\u001B[39;00m\n\u001B[32m      2\u001B[39m \u001B[38;5;28;01mimport\u001B[39;00m\u001B[38;5;250m \u001B[39m\u001B[34;01mrunpy\u001B[39;00m\n\u001B[32m----> \u001B[39m\u001B[32m3\u001B[39m _ = \u001B[43mrunpy\u001B[49m\u001B[43m.\u001B[49m\u001B[43mrun_module\u001B[49m\u001B[43m(\u001B[49m\u001B[33;43m\"\u001B[39;49m\u001B[33;43msrc.data_ingestion\u001B[39;49m\u001B[33;43m\"\u001B[39;49m\u001B[43m,\u001B[49m\u001B[43m \u001B[49m\u001B[43mrun_name\u001B[49m\u001B[43m=\u001B[49m\u001B[33;43m\"\u001B[39;49m\u001B[33;43m__main__\u001B[39;49m\u001B[33;43m\"\u001B[39;49m\u001B[43m)\u001B[49m\n",
      "\u001B[36mFile \u001B[39m\u001B[32m<frozen runpy>:229\u001B[39m, in \u001B[36mrun_module\u001B[39m\u001B[34m(mod_name, init_globals, run_name, alter_sys)\u001B[39m\n",
      "\u001B[36mFile \u001B[39m\u001B[32m<frozen runpy>:88\u001B[39m, in \u001B[36m_run_code\u001B[39m\u001B[34m(code, run_globals, init_globals, mod_name, mod_spec, pkg_name, script_name)\u001B[39m\n",
      "\u001B[36mFile \u001B[39m\u001B[32m~/Documents/ML_Projects/brickworth-lego-price-predictor/src/data_ingestion.py:87\u001B[39m\n\u001B[32m     84\u001B[39m         save_df(inv_df, CFG.raw_dir / \u001B[33m\"\u001B[39m\u001B[33mrebrickable_inventories_sample\u001B[39m\u001B[33m\"\u001B[39m)\n\u001B[32m     86\u001B[39m \u001B[38;5;28;01mif\u001B[39;00m \u001B[34m__name__\u001B[39m == \u001B[33m\"\u001B[39m\u001B[33m__main__\u001B[39m\u001B[33m\"\u001B[39m:\n\u001B[32m---> \u001B[39m\u001B[32m87\u001B[39m     \u001B[43mrun_basic_pull\u001B[49m\u001B[43m(\u001B[49m\u001B[43m)\u001B[49m\n",
      "\u001B[36mFile \u001B[39m\u001B[32m~/Documents/ML_Projects/brickworth-lego-price-predictor/src/data_ingestion.py:72\u001B[39m, in \u001B[36mrun_basic_pull\u001B[39m\u001B[34m()\u001B[39m\n\u001B[32m     69\u001B[39m save_df(themes, CFG.raw_dir / \u001B[33m\"\u001B[39m\u001B[33mrebrickable_themes\u001B[39m\u001B[33m\"\u001B[39m)\n\u001B[32m     71\u001B[39m \u001B[38;5;66;03m# 2) ALL sets since 1990\u001B[39;00m\n\u001B[32m---> \u001B[39m\u001B[32m72\u001B[39m sets_df = \u001B[43mfetch_all_sets\u001B[49m\u001B[43m(\u001B[49m\u001B[43myear_min\u001B[49m\u001B[43m=\u001B[49m\u001B[32;43m1990\u001B[39;49m\u001B[43m)\u001B[49m\n\u001B[32m     73\u001B[39m save_df(sets_df, CFG.raw_dir / \u001B[33m\"\u001B[39m\u001B[33mrebrickable_sets_all\u001B[39m\u001B[33m\"\u001B[39m)\n\u001B[32m     75\u001B[39m \u001B[38;5;66;03m# 3) sample inventories for top 20 sets\u001B[39;00m\n",
      "\u001B[36mFile \u001B[39m\u001B[32m~/Documents/ML_Projects/brickworth-lego-price-predictor/src/data_ingestion.py:47\u001B[39m, in \u001B[36mfetch_all_sets\u001B[39m\u001B[34m(year_min, year_max)\u001B[39m\n\u001B[32m     44\u001B[39m \u001B[38;5;28;01mif\u001B[39;00m year_max:\n\u001B[32m     45\u001B[39m     params[\u001B[33m\"\u001B[39m\u001B[33mmax_year\u001B[39m\u001B[33m\"\u001B[39m] = year_max\n\u001B[32m---> \u001B[39m\u001B[32m47\u001B[39m rows = \u001B[38;5;28;43mlist\u001B[39;49m\u001B[43m(\u001B[49m\u001B[43m_paged_get\u001B[49m\u001B[43m(\u001B[49m\u001B[43murl\u001B[49m\u001B[43m,\u001B[49m\u001B[43m \u001B[49m\u001B[43mparams\u001B[49m\u001B[43m)\u001B[49m\u001B[43m)\u001B[49m\n\u001B[32m     48\u001B[39m \u001B[38;5;28;01mreturn\u001B[39;00m pd.DataFrame(rows)\n",
      "\u001B[36mFile \u001B[39m\u001B[32m~/Documents/ML_Projects/brickworth-lego-price-predictor/src/data_ingestion.py:24\u001B[39m, in \u001B[36m_paged_get\u001B[39m\u001B[34m(url, params)\u001B[39m\n\u001B[32m     21\u001B[39m resp = requests.get(url, headers=HEADERS, params=params, timeout=\u001B[32m30\u001B[39m)\n\u001B[32m     22\u001B[39m \u001B[38;5;28;01mif\u001B[39;00m resp.status_code == \u001B[32m429\u001B[39m:\n\u001B[32m     23\u001B[39m     \u001B[38;5;66;03m# backoff on rate limit\u001B[39;00m\n\u001B[32m---> \u001B[39m\u001B[32m24\u001B[39m     \u001B[43mtime\u001B[49m\u001B[43m.\u001B[49m\u001B[43msleep\u001B[49m\u001B[43m(\u001B[49m\u001B[32;43m5\u001B[39;49m\u001B[43m)\u001B[49m;  \u001B[38;5;66;03m# simple backoff\u001B[39;00m\n\u001B[32m     25\u001B[39m     \u001B[38;5;28;01mcontinue\u001B[39;00m\n\u001B[32m     26\u001B[39m resp.raise_for_status()\n",
      "\u001B[31mKeyboardInterrupt\u001B[39m: "
     ]
    }
   ],
   "execution_count": 15
  },
  {
   "metadata": {},
   "cell_type": "markdown",
   "source": [
    "## Verify outputs\n",
    "Sanity‑check that expected files exist and have rows."
   ],
   "id": "f6aa1847443231b1"
  },
  {
   "metadata": {
    "ExecuteTime": {
     "end_time": "2025-08-19T17:17:08.793404Z",
     "start_time": "2025-08-19T17:17:08.704897Z"
    }
   },
   "cell_type": "code",
   "source": [
    "import pandas as pd\n",
    "\n",
    "themes_p = RAW / \"rebrickable_themes.csv\"\n",
    "sets_p = RAW / \"rebrickable_sets_all.csv\"\n",
    "inv_p = RAW / \"rebrickable_inventories_sample.csv\"\n",
    "\n",
    "for p in [themes_p, sets_p, inv_p]:\n",
    "    print(p.name, \"→ exists:\", p.exists())\n",
    "    if p.exists():\n",
    "        df = pd.read_csv(p, nrows=5)\n",
    "        print(\"  sample rows:\", len(df))\n",
    "        display(df.head(3))"
   ],
   "id": "55ec9d29f683e0f8",
   "outputs": [
    {
     "name": "stdout",
     "output_type": "stream",
     "text": [
      "rebrickable_themes.csv → exists: True\n",
      "  sample rows: 5\n"
     ]
    },
    {
     "data": {
      "text/plain": [
       "   id  parent_id            name\n",
       "0   1        NaN         Technic\n",
       "1   3        1.0     Competition\n",
       "2   4        1.0  Expert Builder"
      ],
      "text/html": [
       "<div>\n",
       "<style scoped>\n",
       "    .dataframe tbody tr th:only-of-type {\n",
       "        vertical-align: middle;\n",
       "    }\n",
       "\n",
       "    .dataframe tbody tr th {\n",
       "        vertical-align: top;\n",
       "    }\n",
       "\n",
       "    .dataframe thead th {\n",
       "        text-align: right;\n",
       "    }\n",
       "</style>\n",
       "<table border=\"1\" class=\"dataframe\">\n",
       "  <thead>\n",
       "    <tr style=\"text-align: right;\">\n",
       "      <th></th>\n",
       "      <th>id</th>\n",
       "      <th>parent_id</th>\n",
       "      <th>name</th>\n",
       "    </tr>\n",
       "  </thead>\n",
       "  <tbody>\n",
       "    <tr>\n",
       "      <th>0</th>\n",
       "      <td>1</td>\n",
       "      <td>NaN</td>\n",
       "      <td>Technic</td>\n",
       "    </tr>\n",
       "    <tr>\n",
       "      <th>1</th>\n",
       "      <td>3</td>\n",
       "      <td>1.0</td>\n",
       "      <td>Competition</td>\n",
       "    </tr>\n",
       "    <tr>\n",
       "      <th>2</th>\n",
       "      <td>4</td>\n",
       "      <td>1.0</td>\n",
       "      <td>Expert Builder</td>\n",
       "    </tr>\n",
       "  </tbody>\n",
       "</table>\n",
       "</div>"
      ]
     },
     "metadata": {},
     "output_type": "display_data"
    },
    {
     "name": "stdout",
     "output_type": "stream",
     "text": [
      "rebrickable_sets_all.csv → exists: True\n",
      "  sample rows: 5\n"
     ]
    },
    {
     "data": {
      "text/plain": [
       "        set_num                               name  year  theme_id  num_parts  \\\n",
       "0  0003977811-1        Ninjago: Book of Adventures  2022       761          1   \n",
       "1      010423-1                 The Majestic Horse  2023       721        492   \n",
       "2  0241187567-1  Ninjago: Build Your Own Adventure  2015       761         74   \n",
       "\n",
       "                                         set_img_url  \\\n",
       "0  https://cdn.rebrickable.com/media/sets/0003977...   \n",
       "1  https://cdn.rebrickable.com/media/sets/010423-...   \n",
       "2  https://cdn.rebrickable.com/media/sets/0241187...   \n",
       "\n",
       "                                             set_url  \\\n",
       "0  https://rebrickable.com/sets/0003977811-1/ninj...   \n",
       "1  https://rebrickable.com/sets/010423-1/the-maje...   \n",
       "2  https://rebrickable.com/sets/0241187567-1/ninj...   \n",
       "\n",
       "              last_modified_dt  \n",
       "0  2024-01-24T19:20:15.546851Z  \n",
       "1  2023-04-03T14:52:47.187291Z  \n",
       "2  2024-01-21T22:47:20.815654Z  "
      ],
      "text/html": [
       "<div>\n",
       "<style scoped>\n",
       "    .dataframe tbody tr th:only-of-type {\n",
       "        vertical-align: middle;\n",
       "    }\n",
       "\n",
       "    .dataframe tbody tr th {\n",
       "        vertical-align: top;\n",
       "    }\n",
       "\n",
       "    .dataframe thead th {\n",
       "        text-align: right;\n",
       "    }\n",
       "</style>\n",
       "<table border=\"1\" class=\"dataframe\">\n",
       "  <thead>\n",
       "    <tr style=\"text-align: right;\">\n",
       "      <th></th>\n",
       "      <th>set_num</th>\n",
       "      <th>name</th>\n",
       "      <th>year</th>\n",
       "      <th>theme_id</th>\n",
       "      <th>num_parts</th>\n",
       "      <th>set_img_url</th>\n",
       "      <th>set_url</th>\n",
       "      <th>last_modified_dt</th>\n",
       "    </tr>\n",
       "  </thead>\n",
       "  <tbody>\n",
       "    <tr>\n",
       "      <th>0</th>\n",
       "      <td>0003977811-1</td>\n",
       "      <td>Ninjago: Book of Adventures</td>\n",
       "      <td>2022</td>\n",
       "      <td>761</td>\n",
       "      <td>1</td>\n",
       "      <td>https://cdn.rebrickable.com/media/sets/0003977...</td>\n",
       "      <td>https://rebrickable.com/sets/0003977811-1/ninj...</td>\n",
       "      <td>2024-01-24T19:20:15.546851Z</td>\n",
       "    </tr>\n",
       "    <tr>\n",
       "      <th>1</th>\n",
       "      <td>010423-1</td>\n",
       "      <td>The Majestic Horse</td>\n",
       "      <td>2023</td>\n",
       "      <td>721</td>\n",
       "      <td>492</td>\n",
       "      <td>https://cdn.rebrickable.com/media/sets/010423-...</td>\n",
       "      <td>https://rebrickable.com/sets/010423-1/the-maje...</td>\n",
       "      <td>2023-04-03T14:52:47.187291Z</td>\n",
       "    </tr>\n",
       "    <tr>\n",
       "      <th>2</th>\n",
       "      <td>0241187567-1</td>\n",
       "      <td>Ninjago: Build Your Own Adventure</td>\n",
       "      <td>2015</td>\n",
       "      <td>761</td>\n",
       "      <td>74</td>\n",
       "      <td>https://cdn.rebrickable.com/media/sets/0241187...</td>\n",
       "      <td>https://rebrickable.com/sets/0241187567-1/ninj...</td>\n",
       "      <td>2024-01-21T22:47:20.815654Z</td>\n",
       "    </tr>\n",
       "  </tbody>\n",
       "</table>\n",
       "</div>"
      ]
     },
     "metadata": {},
     "output_type": "display_data"
    },
    {
     "name": "stdout",
     "output_type": "stream",
     "text": [
      "rebrickable_inventories_sample.csv → exists: True\n",
      "  sample rows: 5\n"
     ]
    },
    {
     "data": {
      "text/plain": [
       "           id  inv_part_id                                               part  \\\n",
       "0  21213012.0   21213012.0  {'part_num': '21459', 'name': 'Weapon Sword / ...   \n",
       "1  22999625.0   22999625.0  {'part_num': '48729b', 'name': 'Bar 1L with Cl...   \n",
       "2  22999570.0   22999570.0  {'part_num': '3024', 'name': 'Plate 1 x 1', 'p...   \n",
       "\n",
       "                                               color       set_num  quantity  \\\n",
       "0  {'id': 179, 'name': 'Flat Silver', 'rgb': '898...  0003977811-1       1.0   \n",
       "1  {'id': 0, 'name': 'Black', 'rgb': '05131D', 'i...      010423-1       8.0   \n",
       "2  {'id': 0, 'name': 'Black', 'rgb': '05131D', 'i...      010423-1       5.0   \n",
       "\n",
       "   is_spare  element_id  num_sets  \n",
       "0     False     6116593     158.0  \n",
       "1     False     6278152     400.0  \n",
       "2     False      302426    1289.0  "
      ],
      "text/html": [
       "<div>\n",
       "<style scoped>\n",
       "    .dataframe tbody tr th:only-of-type {\n",
       "        vertical-align: middle;\n",
       "    }\n",
       "\n",
       "    .dataframe tbody tr th {\n",
       "        vertical-align: top;\n",
       "    }\n",
       "\n",
       "    .dataframe thead th {\n",
       "        text-align: right;\n",
       "    }\n",
       "</style>\n",
       "<table border=\"1\" class=\"dataframe\">\n",
       "  <thead>\n",
       "    <tr style=\"text-align: right;\">\n",
       "      <th></th>\n",
       "      <th>id</th>\n",
       "      <th>inv_part_id</th>\n",
       "      <th>part</th>\n",
       "      <th>color</th>\n",
       "      <th>set_num</th>\n",
       "      <th>quantity</th>\n",
       "      <th>is_spare</th>\n",
       "      <th>element_id</th>\n",
       "      <th>num_sets</th>\n",
       "    </tr>\n",
       "  </thead>\n",
       "  <tbody>\n",
       "    <tr>\n",
       "      <th>0</th>\n",
       "      <td>21213012.0</td>\n",
       "      <td>21213012.0</td>\n",
       "      <td>{'part_num': '21459', 'name': 'Weapon Sword / ...</td>\n",
       "      <td>{'id': 179, 'name': 'Flat Silver', 'rgb': '898...</td>\n",
       "      <td>0003977811-1</td>\n",
       "      <td>1.0</td>\n",
       "      <td>False</td>\n",
       "      <td>6116593</td>\n",
       "      <td>158.0</td>\n",
       "    </tr>\n",
       "    <tr>\n",
       "      <th>1</th>\n",
       "      <td>22999625.0</td>\n",
       "      <td>22999625.0</td>\n",
       "      <td>{'part_num': '48729b', 'name': 'Bar 1L with Cl...</td>\n",
       "      <td>{'id': 0, 'name': 'Black', 'rgb': '05131D', 'i...</td>\n",
       "      <td>010423-1</td>\n",
       "      <td>8.0</td>\n",
       "      <td>False</td>\n",
       "      <td>6278152</td>\n",
       "      <td>400.0</td>\n",
       "    </tr>\n",
       "    <tr>\n",
       "      <th>2</th>\n",
       "      <td>22999570.0</td>\n",
       "      <td>22999570.0</td>\n",
       "      <td>{'part_num': '3024', 'name': 'Plate 1 x 1', 'p...</td>\n",
       "      <td>{'id': 0, 'name': 'Black', 'rgb': '05131D', 'i...</td>\n",
       "      <td>010423-1</td>\n",
       "      <td>5.0</td>\n",
       "      <td>False</td>\n",
       "      <td>302426</td>\n",
       "      <td>1289.0</td>\n",
       "    </tr>\n",
       "  </tbody>\n",
       "</table>\n",
       "</div>"
      ]
     },
     "metadata": {},
     "output_type": "display_data"
    }
   ],
   "execution_count": 16
  }
 ],
 "metadata": {
  "kernelspec": {
   "display_name": "Python 3",
   "language": "python",
   "name": "python3"
  },
  "language_info": {
   "codemirror_mode": {
    "name": "ipython",
    "version": 2
   },
   "file_extension": ".py",
   "mimetype": "text/x-python",
   "name": "python",
   "nbconvert_exporter": "python",
   "pygments_lexer": "ipython2",
   "version": "2.7.6"
  }
 },
 "nbformat": 4,
 "nbformat_minor": 5
}
